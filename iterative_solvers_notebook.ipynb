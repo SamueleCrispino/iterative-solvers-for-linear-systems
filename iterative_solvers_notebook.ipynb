{
 "cells": [
  {
   "cell_type": "markdown",
   "id": "a968bdaf",
   "metadata": {},
   "source": [
    "# Functions Utils"
   ]
  },
  {
   "cell_type": "code",
   "execution_count": 14,
   "id": "0f77c585",
   "metadata": {},
   "outputs": [],
   "source": [
    "import numpy as np\n",
    "from tqdm import tqdm\n",
    "from scipy.io import mmread\n",
    "from scipy.sparse import csr_matrix, tril, coo_matrix\n",
    "from numpy import linalg\n",
    "import matplotlib.pyplot as plt\n",
    "import pandas as pd"
   ]
  },
  {
   "cell_type": "code",
   "execution_count": 2,
   "id": "98361254",
   "metadata": {},
   "outputs": [],
   "source": [
    "from progetto_bis import main"
   ]
  },
  {
   "cell_type": "markdown",
   "id": "d03e007d",
   "metadata": {},
   "source": [
    "# Execution"
   ]
  },
  {
   "cell_type": "code",
   "execution_count": 3,
   "id": "22d92e8c",
   "metadata": {},
   "outputs": [
    {
     "name": "stdout",
     "output_type": "stream",
     "text": [
      "Starting iterative jacobi method\n"
     ]
    },
    {
     "name": "stderr",
     "output_type": "stream",
     "text": [
      "C:\\Users\\s.crispino\\AppData\\Local\\anaconda3\\lib\\site-packages\\numpy\\linalg\\linalg.py:2154: RuntimeWarning: overflow encountered in det\n",
      "  r = _umath_linalg.det(a, signature=signature)\n",
      "  1%|▍                                                                             | 116/20000 [00:09<26:30, 12.50it/s]\n"
     ]
    },
    {
     "name": "stdout",
     "output_type": "stream",
     "text": [
      "**************************************************\n",
      "Summary for jacobi method:\n",
      "matrix_dimension = 1000\n",
      "tol = 0.0001\n",
      "max_iter = 20000\n",
      "err_rel = 0.00165227651625821\n",
      "iterations_number = 116\n",
      "elapsed_time = 9.655620336532593\n",
      "**************************************************\n",
      "Starting iterative Gauß-Seidel method\n"
     ]
    },
    {
     "name": "stderr",
     "output_type": "stream",
     "text": [
      "  0%|                                                                               | 10/20000 [00:00<28:15, 11.79it/s]\n"
     ]
    },
    {
     "name": "stdout",
     "output_type": "stream",
     "text": [
      "**************************************************\n",
      "Summary for Gauß-Seidel method:\n",
      "matrix_dimension = 1000\n",
      "tol = 0.0001\n",
      "max_iter = 20000\n",
      "err_rel = 0.009829657799574757\n",
      "iterations_number = 10\n",
      "elapsed_time = 1.121206521987915\n",
      "**************************************************\n",
      "Starting iterative gradient method\n"
     ]
    },
    {
     "name": "stderr",
     "output_type": "stream",
     "text": [
      "  1%|▌                                                                           | 144/20000 [00:00<00:08, 2307.17it/s]\n"
     ]
    },
    {
     "name": "stdout",
     "output_type": "stream",
     "text": [
      "**************************************************\n",
      "Summary for gradient method:\n",
      "matrix_dimension = 1000\n",
      "tol = 0.0001\n",
      "max_iter = 20000\n",
      "err_rel = 0.03451187583863213\n",
      "iterations_number = 144\n",
      "elapsed_time = 0.06241416931152344\n",
      "**************************************************\n",
      "Starting iterative conjugate_gradient method\n"
     ]
    },
    {
     "name": "stderr",
     "output_type": "stream",
     "text": [
      "  1%|▌                                                                           | 144/20000 [00:00<00:10, 1850.85it/s]"
     ]
    },
    {
     "name": "stdout",
     "output_type": "stream",
     "text": [
      "**************************************************\n",
      "Summary for conjugate_gradient method:\n",
      "matrix_dimension = 1000\n",
      "tol = 0.0001\n",
      "max_iter = 20000\n",
      "err_rel = 0.03451187583863213\n",
      "iterations_number = 144\n",
      "elapsed_time = 0.07780218124389648\n",
      "**************************************************\n"
     ]
    },
    {
     "name": "stderr",
     "output_type": "stream",
     "text": [
      "\n"
     ]
    }
   ],
   "source": [
    "exec_data = main(['spa1.mtx'], [10**-4, 10**6])"
   ]
  },
  {
   "cell_type": "markdown",
   "id": "ece1ea91",
   "metadata": {},
   "source": [
    "# Plotting"
   ]
  },
  {
   "cell_type": "markdown",
   "id": "33d1d19a",
   "metadata": {},
   "source": [
    "## Processing Data for Plots"
   ]
  },
  {
   "cell_type": "code",
   "execution_count": 59,
   "id": "a3db6725",
   "metadata": {},
   "outputs": [],
   "source": [
    "# ['jacobi', 'Gauß-Seidel', 'gradient', 'conjugate_gradient']\n",
    "## ['iterations', 'matrix_dimension', 'tol', 'max_iter', 'err_rel', 'iterations_number', 'elapsed_time']\n",
    "def processing_parameters_data(exec_data):\n",
    "    data_plot = {}\n",
    "    data_plot['param'] = []\n",
    "    for method in exec_data.keys():\n",
    "        data_plot[method] = []\n",
    "        for param in ['err_rel', 'iterations_number', 'elapsed_time']:\n",
    "            if len(data_plot['param']) < 3:\n",
    "                data_plot['param'].append(param)\n",
    "            data_plot[method].append(exec_data[method][param])\n",
    "\n",
    "\n",
    "    df_plot = pd.DataFrame(data_plot)\n",
    "    df_plot.head()\n",
    "    \n",
    "    return df_plot"
   ]
  },
  {
   "cell_type": "markdown",
   "id": "add161b5",
   "metadata": {},
   "source": [
    "## Plotting"
   ]
  },
  {
   "cell_type": "code",
   "execution_count": 60,
   "id": "82d3cf01",
   "metadata": {
    "scrolled": true
   },
   "outputs": [],
   "source": [
    "def plotting_params(df_plot):\n",
    "    for param in df_plot['param'].unique():\n",
    "\n",
    "        df_plot[df_plot['param']== param].plot(kind='bar')\n",
    "\n",
    "        plt.title(param)\n",
    "\n",
    "        plt.plot()"
   ]
  },
  {
   "cell_type": "markdown",
   "id": "9ccf3566",
   "metadata": {},
   "source": [
    "## Plotting Convergence"
   ]
  },
  {
   "cell_type": "code",
   "execution_count": 61,
   "id": "01f70255",
   "metadata": {},
   "outputs": [],
   "source": [
    "# ['jacobi', 'Gauß-Seidel', 'gradient', 'conjugate_gradient']\n",
    "def plotting_convergence(exec_data):\n",
    "    for method in exec_data.keys():\n",
    "        plt.figure(figsize=(10, 5))\n",
    "        \n",
    "        plt.subplot(1, 2, 1)\n",
    "        plt.plot(exec_data[method]['iterations'].keys(), exec_data[method]['iterations'].values())\n",
    "        \n",
    "        \n",
    "        plt.subplot(1, 2, 2)\n",
    "        abs_values = [abs(val) for val in exec_data[method]['iterations'].values()]\n",
    "        plt.plot(exec_data[method]['iterations'].keys(), abs_values)"
   ]
  },
  {
   "cell_type": "markdown",
   "id": "209c3893",
   "metadata": {},
   "source": [
    "### Tempo medio a iterazione?"
   ]
  }
 ],
 "metadata": {
  "kernelspec": {
   "display_name": "Python 3 (ipykernel)",
   "language": "python",
   "name": "python3"
  },
  "language_info": {
   "codemirror_mode": {
    "name": "ipython",
    "version": 3
   },
   "file_extension": ".py",
   "mimetype": "text/x-python",
   "name": "python",
   "nbconvert_exporter": "python",
   "pygments_lexer": "ipython3",
   "version": "3.10.9"
  }
 },
 "nbformat": 4,
 "nbformat_minor": 5
}
